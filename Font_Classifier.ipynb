{
  "nbformat": 4,
  "nbformat_minor": 0,
  "metadata": {
    "colab": {
      "provenance": []
    },
    "kernelspec": {
      "name": "python3",
      "display_name": "Python 3"
    },
    "language_info": {
      "name": "python"
    },
    "widgets": {
      "application/vnd.jupyter.widget-state+json": {
        "2ee667f860f34fc4a5dd2ca75336bc2c": {
          "model_module": "@jupyter-widgets/controls",
          "model_name": "HBoxModel",
          "model_module_version": "1.5.0",
          "state": {
            "_dom_classes": [],
            "_model_module": "@jupyter-widgets/controls",
            "_model_module_version": "1.5.0",
            "_model_name": "HBoxModel",
            "_view_count": null,
            "_view_module": "@jupyter-widgets/controls",
            "_view_module_version": "1.5.0",
            "_view_name": "HBoxView",
            "box_style": "",
            "children": [
              "IPY_MODEL_34ef014997a54983a2f5beedc0e61ffc",
              "IPY_MODEL_e91c32a31014493caf1a912584535eb7",
              "IPY_MODEL_0ec285d1b537412a9319d0ebe0d7e56e"
            ],
            "layout": "IPY_MODEL_057120885f8f41809cf12f8c1df87f11"
          }
        },
        "34ef014997a54983a2f5beedc0e61ffc": {
          "model_module": "@jupyter-widgets/controls",
          "model_name": "HTMLModel",
          "model_module_version": "1.5.0",
          "state": {
            "_dom_classes": [],
            "_model_module": "@jupyter-widgets/controls",
            "_model_module_version": "1.5.0",
            "_model_name": "HTMLModel",
            "_view_count": null,
            "_view_module": "@jupyter-widgets/controls",
            "_view_module_version": "1.5.0",
            "_view_name": "HTMLView",
            "description": "",
            "description_tooltip": null,
            "layout": "IPY_MODEL_6e32ceb772af4096b10416d14c8cd48d",
            "placeholder": "​",
            "style": "IPY_MODEL_057d25f264624b62aaa96199593a98f1",
            "value": "100%"
          }
        },
        "e91c32a31014493caf1a912584535eb7": {
          "model_module": "@jupyter-widgets/controls",
          "model_name": "FloatProgressModel",
          "model_module_version": "1.5.0",
          "state": {
            "_dom_classes": [],
            "_model_module": "@jupyter-widgets/controls",
            "_model_module_version": "1.5.0",
            "_model_name": "FloatProgressModel",
            "_view_count": null,
            "_view_module": "@jupyter-widgets/controls",
            "_view_module_version": "1.5.0",
            "_view_name": "ProgressView",
            "bar_style": "success",
            "description": "",
            "description_tooltip": null,
            "layout": "IPY_MODEL_10b3e00aa3dd417f95d4e67a0246d879",
            "max": 8,
            "min": 0,
            "orientation": "horizontal",
            "style": "IPY_MODEL_83e4b9086bd84acbbe6f0efaf3141d7f",
            "value": 8
          }
        },
        "0ec285d1b537412a9319d0ebe0d7e56e": {
          "model_module": "@jupyter-widgets/controls",
          "model_name": "HTMLModel",
          "model_module_version": "1.5.0",
          "state": {
            "_dom_classes": [],
            "_model_module": "@jupyter-widgets/controls",
            "_model_module_version": "1.5.0",
            "_model_name": "HTMLModel",
            "_view_count": null,
            "_view_module": "@jupyter-widgets/controls",
            "_view_module_version": "1.5.0",
            "_view_name": "HTMLView",
            "description": "",
            "description_tooltip": null,
            "layout": "IPY_MODEL_9ab00b6e5ce142e7aa3d3d5991e3f806",
            "placeholder": "​",
            "style": "IPY_MODEL_a08a0a36c1d149de8a65008590c3586d",
            "value": " 8/8 [02:27&lt;00:00, 18.28s/it]"
          }
        },
        "057120885f8f41809cf12f8c1df87f11": {
          "model_module": "@jupyter-widgets/base",
          "model_name": "LayoutModel",
          "model_module_version": "1.2.0",
          "state": {
            "_model_module": "@jupyter-widgets/base",
            "_model_module_version": "1.2.0",
            "_model_name": "LayoutModel",
            "_view_count": null,
            "_view_module": "@jupyter-widgets/base",
            "_view_module_version": "1.2.0",
            "_view_name": "LayoutView",
            "align_content": null,
            "align_items": null,
            "align_self": null,
            "border": null,
            "bottom": null,
            "display": null,
            "flex": null,
            "flex_flow": null,
            "grid_area": null,
            "grid_auto_columns": null,
            "grid_auto_flow": null,
            "grid_auto_rows": null,
            "grid_column": null,
            "grid_gap": null,
            "grid_row": null,
            "grid_template_areas": null,
            "grid_template_columns": null,
            "grid_template_rows": null,
            "height": null,
            "justify_content": null,
            "justify_items": null,
            "left": null,
            "margin": null,
            "max_height": null,
            "max_width": null,
            "min_height": null,
            "min_width": null,
            "object_fit": null,
            "object_position": null,
            "order": null,
            "overflow": null,
            "overflow_x": null,
            "overflow_y": null,
            "padding": null,
            "right": null,
            "top": null,
            "visibility": null,
            "width": null
          }
        },
        "6e32ceb772af4096b10416d14c8cd48d": {
          "model_module": "@jupyter-widgets/base",
          "model_name": "LayoutModel",
          "model_module_version": "1.2.0",
          "state": {
            "_model_module": "@jupyter-widgets/base",
            "_model_module_version": "1.2.0",
            "_model_name": "LayoutModel",
            "_view_count": null,
            "_view_module": "@jupyter-widgets/base",
            "_view_module_version": "1.2.0",
            "_view_name": "LayoutView",
            "align_content": null,
            "align_items": null,
            "align_self": null,
            "border": null,
            "bottom": null,
            "display": null,
            "flex": null,
            "flex_flow": null,
            "grid_area": null,
            "grid_auto_columns": null,
            "grid_auto_flow": null,
            "grid_auto_rows": null,
            "grid_column": null,
            "grid_gap": null,
            "grid_row": null,
            "grid_template_areas": null,
            "grid_template_columns": null,
            "grid_template_rows": null,
            "height": null,
            "justify_content": null,
            "justify_items": null,
            "left": null,
            "margin": null,
            "max_height": null,
            "max_width": null,
            "min_height": null,
            "min_width": null,
            "object_fit": null,
            "object_position": null,
            "order": null,
            "overflow": null,
            "overflow_x": null,
            "overflow_y": null,
            "padding": null,
            "right": null,
            "top": null,
            "visibility": null,
            "width": null
          }
        },
        "057d25f264624b62aaa96199593a98f1": {
          "model_module": "@jupyter-widgets/controls",
          "model_name": "DescriptionStyleModel",
          "model_module_version": "1.5.0",
          "state": {
            "_model_module": "@jupyter-widgets/controls",
            "_model_module_version": "1.5.0",
            "_model_name": "DescriptionStyleModel",
            "_view_count": null,
            "_view_module": "@jupyter-widgets/base",
            "_view_module_version": "1.2.0",
            "_view_name": "StyleView",
            "description_width": ""
          }
        },
        "10b3e00aa3dd417f95d4e67a0246d879": {
          "model_module": "@jupyter-widgets/base",
          "model_name": "LayoutModel",
          "model_module_version": "1.2.0",
          "state": {
            "_model_module": "@jupyter-widgets/base",
            "_model_module_version": "1.2.0",
            "_model_name": "LayoutModel",
            "_view_count": null,
            "_view_module": "@jupyter-widgets/base",
            "_view_module_version": "1.2.0",
            "_view_name": "LayoutView",
            "align_content": null,
            "align_items": null,
            "align_self": null,
            "border": null,
            "bottom": null,
            "display": null,
            "flex": null,
            "flex_flow": null,
            "grid_area": null,
            "grid_auto_columns": null,
            "grid_auto_flow": null,
            "grid_auto_rows": null,
            "grid_column": null,
            "grid_gap": null,
            "grid_row": null,
            "grid_template_areas": null,
            "grid_template_columns": null,
            "grid_template_rows": null,
            "height": null,
            "justify_content": null,
            "justify_items": null,
            "left": null,
            "margin": null,
            "max_height": null,
            "max_width": null,
            "min_height": null,
            "min_width": null,
            "object_fit": null,
            "object_position": null,
            "order": null,
            "overflow": null,
            "overflow_x": null,
            "overflow_y": null,
            "padding": null,
            "right": null,
            "top": null,
            "visibility": null,
            "width": null
          }
        },
        "83e4b9086bd84acbbe6f0efaf3141d7f": {
          "model_module": "@jupyter-widgets/controls",
          "model_name": "ProgressStyleModel",
          "model_module_version": "1.5.0",
          "state": {
            "_model_module": "@jupyter-widgets/controls",
            "_model_module_version": "1.5.0",
            "_model_name": "ProgressStyleModel",
            "_view_count": null,
            "_view_module": "@jupyter-widgets/base",
            "_view_module_version": "1.2.0",
            "_view_name": "StyleView",
            "bar_color": null,
            "description_width": ""
          }
        },
        "9ab00b6e5ce142e7aa3d3d5991e3f806": {
          "model_module": "@jupyter-widgets/base",
          "model_name": "LayoutModel",
          "model_module_version": "1.2.0",
          "state": {
            "_model_module": "@jupyter-widgets/base",
            "_model_module_version": "1.2.0",
            "_model_name": "LayoutModel",
            "_view_count": null,
            "_view_module": "@jupyter-widgets/base",
            "_view_module_version": "1.2.0",
            "_view_name": "LayoutView",
            "align_content": null,
            "align_items": null,
            "align_self": null,
            "border": null,
            "bottom": null,
            "display": null,
            "flex": null,
            "flex_flow": null,
            "grid_area": null,
            "grid_auto_columns": null,
            "grid_auto_flow": null,
            "grid_auto_rows": null,
            "grid_column": null,
            "grid_gap": null,
            "grid_row": null,
            "grid_template_areas": null,
            "grid_template_columns": null,
            "grid_template_rows": null,
            "height": null,
            "justify_content": null,
            "justify_items": null,
            "left": null,
            "margin": null,
            "max_height": null,
            "max_width": null,
            "min_height": null,
            "min_width": null,
            "object_fit": null,
            "object_position": null,
            "order": null,
            "overflow": null,
            "overflow_x": null,
            "overflow_y": null,
            "padding": null,
            "right": null,
            "top": null,
            "visibility": null,
            "width": null
          }
        },
        "a08a0a36c1d149de8a65008590c3586d": {
          "model_module": "@jupyter-widgets/controls",
          "model_name": "DescriptionStyleModel",
          "model_module_version": "1.5.0",
          "state": {
            "_model_module": "@jupyter-widgets/controls",
            "_model_module_version": "1.5.0",
            "_model_name": "DescriptionStyleModel",
            "_view_count": null,
            "_view_module": "@jupyter-widgets/base",
            "_view_module_version": "1.2.0",
            "_view_name": "StyleView",
            "description_width": ""
          }
        }
      }
    }
  },
  "cells": [
    {
      "cell_type": "markdown",
      "source": [
        "# 1 Importing necessary libraries\n",
        "\n",
        "Importing libraries and setting up device agnostic code"
      ],
      "metadata": {
        "id": "FaQ_luAJNNK-"
      }
    },
    {
      "cell_type": "code",
      "source": [
        "import pandas as pd\n",
        "import numpy as np\n",
        "\n",
        "import torch\n",
        "\n",
        "from torch import nn\n",
        "\n",
        "from pathlib import Path\n",
        "\n",
        "import os\n",
        "\n",
        "import random\n",
        "from PIL import Image\n",
        "\n",
        "import matplotlib.pyplot as plt\n",
        "%matplotlib inline\n",
        "\n",
        "import shutil\n",
        "\n",
        "from torchvision import transforms, datasets\n",
        "from torch.utils.data import DataLoader, random_split\n",
        "\n",
        "from typing import Dict, List\n",
        "\n",
        "from tqdm.auto import tqdm\n",
        "\n",
        "from classes import CNN, CustomResizeAndSplit, ImageFolderWithPaths"
      ],
      "metadata": {
        "id": "Koc_oMkcO4or"
      },
      "execution_count": 1,
      "outputs": []
    },
    {
      "cell_type": "code",
      "source": [
        "# Set seed\n",
        "random.seed(42)\n",
        "\n",
        "device = \"cuda\" if torch.cuda.is_available() else \"cpu\"\n",
        "device"
      ],
      "metadata": {
        "colab": {
          "base_uri": "https://localhost:8080/",
          "height": 35
        },
        "id": "kyS27PLrPwPy",
        "outputId": "ef3f4661-361e-461d-87ec-91b66a0ea39e"
      },
      "execution_count": 2,
      "outputs": [
        {
          "output_type": "execute_result",
          "data": {
            "text/plain": [
              "'cpu'"
            ],
            "application/vnd.google.colaboratory.intrinsic+json": {
              "type": "string"
            }
          },
          "metadata": {},
          "execution_count": 2
        }
      ]
    },
    {
      "cell_type": "markdown",
      "source": [
        "# 2 Getting Data"
      ],
      "metadata": {
        "id": "d7El6j1MPBdx"
      }
    },
    {
      "cell_type": "code",
      "source": [
        "from google.colab import drive\n",
        "drive.mount('/content/drive')"
      ],
      "metadata": {
        "colab": {
          "base_uri": "https://localhost:8080/"
        },
        "id": "aI2YDcc7PGmo",
        "outputId": "345979cd-7a94-4711-eaaa-6c91bc073447"
      },
      "execution_count": 3,
      "outputs": [
        {
          "output_type": "stream",
          "name": "stdout",
          "text": [
            "Mounted at /content/drive\n"
          ]
        }
      ]
    },
    {
      "cell_type": "code",
      "source": [
        "data_path = Path(\"/content/drive/MyDrive/datasets/Font_Classifier/data\")"
      ],
      "metadata": {
        "id": "Nvp9fScHVS8F"
      },
      "execution_count": 4,
      "outputs": []
    },
    {
      "cell_type": "markdown",
      "source": [
        "# 3 Data Preparation and Exploration"
      ],
      "metadata": {
        "id": "C6wYxPtZbwnq"
      }
    },
    {
      "cell_type": "code",
      "source": [
        "def walk_through_dir(dir_path):\n",
        "    \"\"\"Walks through dir_path, returning its contents.\"\"\"\n",
        "    for dirpath, dirnames, filenames in os.walk(dir_path):\n",
        "        print(f\"There are {len(dirnames)} directories and {len(filenames)} images in '{dirpath}'.\")"
      ],
      "metadata": {
        "id": "rBnqoruibQ8J"
      },
      "execution_count": 5,
      "outputs": []
    },
    {
      "cell_type": "code",
      "source": [
        "walk_through_dir(data_path)"
      ],
      "metadata": {
        "colab": {
          "base_uri": "https://localhost:8080/"
        },
        "id": "TRc73xJHbr5W",
        "outputId": "38c03a82-d943-4b08-ff27-cb723740e4ab"
      },
      "execution_count": 6,
      "outputs": [
        {
          "output_type": "stream",
          "name": "stdout",
          "text": [
            "There are 10 directories and 0 images in '/content/drive/MyDrive/datasets/Font_Classifier/data'.\n",
            "There are 0 directories and 76 images in '/content/drive/MyDrive/datasets/Font_Classifier/data/GreatVibes'.\n",
            "There are 0 directories and 83 images in '/content/drive/MyDrive/datasets/Font_Classifier/data/AguafinaScript'.\n",
            "There are 0 directories and 70 images in '/content/drive/MyDrive/datasets/Font_Classifier/data/Allura'.\n",
            "There are 0 directories and 76 images in '/content/drive/MyDrive/datasets/Font_Classifier/data/Canterbury'.\n",
            "There are 0 directories and 82 images in '/content/drive/MyDrive/datasets/Font_Classifier/data/Holligate Signature'.\n",
            "There are 0 directories and 80 images in '/content/drive/MyDrive/datasets/Font_Classifier/data/James Fajardo'.\n",
            "There are 0 directories and 73 images in '/content/drive/MyDrive/datasets/Font_Classifier/data/OpenSans'.\n",
            "There are 0 directories and 72 images in '/content/drive/MyDrive/datasets/Font_Classifier/data/I Love Glitter'.\n",
            "There are 0 directories and 102 images in '/content/drive/MyDrive/datasets/Font_Classifier/data/alsscrp'.\n",
            "There are 0 directories and 78 images in '/content/drive/MyDrive/datasets/Font_Classifier/data/AlexBrush'.\n"
          ]
        }
      ]
    },
    {
      "cell_type": "markdown",
      "source": [
        "## 3.1 Visualising an image"
      ],
      "metadata": {
        "id": "vZ8FOGcjc28A"
      }
    },
    {
      "cell_type": "code",
      "source": [
        "# Select all .png files in eache folder inside data_path\n",
        "image_path_list = list(data_path.glob(\"*/*.png\"))\n",
        "random_image_path = random.choice(image_path_list)\n",
        "image_class = random_image_path.parent.stem\n",
        "print(image_class)\n",
        "\n",
        "# Open image\n",
        "img = Image.open(random_image_path)\n",
        "\n",
        "# Print metadata\n",
        "print(f\"Random image path: {random_image_path}\")\n",
        "print(f\"Image class: {image_class}\")\n",
        "print(f\"Image_height: {img.height}\")\n",
        "print(f\"Image width: {img.width}\")\n",
        "img"
      ],
      "metadata": {
        "colab": {
          "base_uri": "https://localhost:8080/",
          "height": 185
        },
        "id": "XO5hCtCRbs4i",
        "outputId": "855cf956-b87f-496e-a4b8-c430ad76979d"
      },
      "execution_count": 7,
      "outputs": [
        {
          "output_type": "stream",
          "name": "stdout",
          "text": [
            "alsscrp\n",
            "Random image path: /content/drive/MyDrive/datasets/Font_Classifier/data/alsscrp/image_4.png\n",
            "Image class: alsscrp\n",
            "Image_height: 79\n",
            "Image width: 252\n"
          ]
        },
        {
          "output_type": "execute_result",
          "data": {
            "text/plain": [
              "<PIL.PngImagePlugin.PngImageFile image mode=RGB size=252x79>"
            ],
            "image/png": "[encoded data removed]"
          },
          "metadata": {},
          "execution_count": 7
        }
      ]
    },
    {
      "cell_type": "markdown",
      "source": [
        "# 4 Data Transformation"
      ],
      "metadata": {
        "id": "zhOWUvjZcyJ6"
      }
    },
    {
      "cell_type": "code",
      "source": [
        "# Height and Width of the transformed image\n",
        "HEIGHT = 64\n",
        "WIDTH = 64"
      ],
      "metadata": {
        "id": "Kd0eFxX0dL5T"
      },
      "execution_count": 8,
      "outputs": []
    },
    {
      "cell_type": "markdown",
      "source": [
        "## 4.1 Splitting image"
      ],
      "metadata": {
        "id": "diWgFY1SeqlB"
      }
    },
    {
      "cell_type": "markdown",
      "source": [
        "Splitting the image based on the specified dimension so as the image doesnt get distorted"
      ],
      "metadata": {
        "id": "oNqIQO0QeyCN"
      }
    },
    {
      "cell_type": "code",
      "source": [
        "resize_and_split = CustomResizeAndSplit(size = (HEIGHT, WIDTH))\n",
        "new_img = resize_and_split(img, 0)\n",
        "plt.figure(figsize=(1, 1))\n",
        "plt.imshow(new_img)"
      ],
      "metadata": {
        "colab": {
          "base_uri": "https://localhost:8080/",
          "height": 160
        },
        "id": "ltn2HfANdsAC",
        "outputId": "4ecf235b-6050-44ca-f233-e8aab1329fcb"
      },
      "execution_count": 9,
      "outputs": [
        {
          "output_type": "execute_result",
          "data": {
            "text/plain": [
              "<matplotlib.image.AxesImage at 0x7eb2b78d54b0>"
            ]
          },
          "metadata": {},
          "execution_count": 9
        },
        {
          "output_type": "display_data",
          "data": {
            "text/plain": [
              "<Figure size 100x100 with 1 Axes>"
            ],
            "image/png": "[encoded data removed]"
          },
          "metadata": {}
        }
      ]
    },
    {
      "cell_type": "markdown",
      "source": [
        "# 4.2 Data Transformation"
      ],
      "metadata": {
        "id": "MLwLn1uVd2ea"
      }
    },
    {
      "cell_type": "code",
      "source": [
        "# Transform for image\n",
        "data_transform = transforms.Compose([\n",
        "\n",
        "    # Turn the image to a tensor\n",
        "    transforms.ToTensor()\n",
        "])"
      ],
      "metadata": {
        "id": "sbYDVqhPe_x4"
      },
      "execution_count": 10,
      "outputs": []
    },
    {
      "cell_type": "code",
      "source": [
        "def plot_transformed_images(image_paths: list, transform, n = 3, seed = 42):\n",
        "    \"\"\"\n",
        "    Plots original and transformed images side by side.\n",
        "\n",
        "    Args:\n",
        "        image_paths (list): List of paths to the images to be plotted.\n",
        "        transform (callable): A transformation function to be applied to the images.\n",
        "        n (int, optional): Number of images to plot. Default is 3.\n",
        "        seed (int, optional): Seed for random sampling. Default is 42.\n",
        "    \"\"\"\n",
        "\n",
        "    if seed:\n",
        "        random.seed(seed)\n",
        "\n",
        "    # Selecting 3 random paths from all paths\n",
        "    random_image_paths = random.sample(image_paths, k = n)\n",
        "\n",
        "    for image_path in random_image_paths:\n",
        "        with Image.open(image_path) as f:\n",
        "\n",
        "            ncols = f.size[0] // f.size[1] + 1\n",
        "\n",
        "            fig, ax = plt.subplots(nrows = 1, ncols = ncols)\n",
        "            ax[0].imshow(f)\n",
        "            ax[0].set_title(f\"Original\\nSize: {f.size}\")\n",
        "            ax[0].axis(False)\n",
        "\n",
        "            for i in range(ncols - 1):\n",
        "\n",
        "                # Transform and plot the transformed image\n",
        "                curr_f = resize_and_split(f, i)\n",
        "\n",
        "                # Need to change the shape for matplotlib\n",
        "                transformed_image = transform(curr_f).permute(1, 2, 0)\n",
        "                ax[i + 1].imshow(transformed_image)\n",
        "                ax[i + 1].axis(\"off\")\n",
        "\n",
        "            fig.suptitle(f\"Class: {image_path.parent.stem}\", fontsize = 16)"
      ],
      "metadata": {
        "id": "CjHtxZIlfCdk"
      },
      "execution_count": 11,
      "outputs": []
    },
    {
      "cell_type": "code",
      "source": [
        "plot_transformed_images(image_paths = image_path_list, transform = data_transform, n = 3, seed = random.randint(0, 100))"
      ],
      "metadata": {
        "colab": {
          "base_uri": "https://localhost:8080/",
          "height": 847
        },
        "id": "HNI3pUI7fTs4",
        "outputId": "cf833543-99f1-4b6b-d2c6-d12480d432ed"
      },
      "execution_count": 12,
      "outputs": [
        {
          "output_type": "display_data",
          "data": {
            "text/plain": [
              "<Figure size 640x480 with 6 Axes>"
            ],
            "image/png": "[encoded data removed]"
          },
          "metadata": {}
        },
        {
          "output_type": "display_data",
          "data": {
            "text/plain": [
              "<Figure size 640x480 with 15 Axes>"
            ],
            "image/png": "[encoded data removed]"
          },
          "metadata": {}
        },
        {
          "output_type": "display_data",
          "data": {
            "text/plain": [
              "<Figure size 640x480 with 9 Axes>"
            ],
            "image/png": "[encoded data removed]"
          },
          "metadata": {}
        }
      ]
    },
    {
      "cell_type": "markdown",
      "source": [
        "# 5 Storing transformed data"
      ],
      "metadata": {
        "id": "vwtLvjHMfVKT"
      }
    },
    {
      "cell_type": "code",
      "source": [
        "def store_transformed_data(data_path, train_path, test_path):\n",
        "    \"\"\"\n",
        "    Transforms and splits image data into training and testing sets.\n",
        "\n",
        "    Args:\n",
        "        data_path (str): Path to the directory containing the original data.\n",
        "        train_path (str): Path to the directory where transformed training data will be stored.\n",
        "        test_path (str): Path to the directory where transformed testing data will be stored.\n",
        "    \"\"\"\n",
        "    for class_name in os.listdir(data_path):\n",
        "        class_dir = os.path.join(data_path, class_name)\n",
        "\n",
        "        if os.path.isdir(class_dir):\n",
        "\n",
        "            # Creating directories for train and test dataset\n",
        "            transformed_class_dir_train = os.path.join(train_path, class_name)\n",
        "            transformed_class_dir_test = os.path.join(test_path, class_name)\n",
        "            os.makedirs(transformed_class_dir_train)\n",
        "            os.makedirs(transformed_class_dir_test)\n",
        "\n",
        "            # Going through each file\n",
        "            for file_name in os.listdir(class_dir):\n",
        "                file_path = os.path.join(class_dir, file_name)\n",
        "                img = Image.open(file_path)\n",
        "\n",
        "                # Creating a random number to send the file into train or test folder\n",
        "                rand_num = random.uniform(0, 1)\n",
        "\n",
        "                # Number of files each file would be split into\n",
        "                num_files =  int(HEIGHT / WIDTH *  img.size[0] / img.size[1])\n",
        "\n",
        "                # Going through each split file\n",
        "                for i in range(num_files):\n",
        "\n",
        "                    # Splitting the image\n",
        "                    transformed_img = resize_and_split(img, i)\n",
        "                    new_file_name = file_name[:-4] + \"_\" + str(i) + file_name[-4:]\n",
        "\n",
        "                    # 70% Probability of training\n",
        "                    if rand_num < 0.7:\n",
        "                        transformed_img.save(os.path.join(transformed_class_dir_train, new_file_name))\n",
        "\n",
        "                    else:\n",
        "                        transformed_img.save(os.path.join(transformed_class_dir_test, new_file_name))"
      ],
      "metadata": {
        "id": "lr0WSI-PgYGG"
      },
      "execution_count": 13,
      "outputs": []
    },
    {
      "cell_type": "code",
      "source": [
        "transformed_data_path = Path(\"/content/drive/MyDrive/datasets/Font_Classifier/transformed_data\")\n",
        "\n",
        "# Create train and test paths\n",
        "train_path = transformed_data_path / 'train'\n",
        "test_path = transformed_data_path / 'test'\n",
        "\n",
        "# Check if the directory exists\n",
        "if transformed_data_path.exists():\n",
        "    pass\n",
        "else:\n",
        "    os.makedirs(train_path)\n",
        "    os.makedirs(test_path)\n",
        "\n",
        "    store_transformed_data(data_path, train_path, test_path)"
      ],
      "metadata": {
        "id": "GZu9SLsdxM8q"
      },
      "execution_count": 14,
      "outputs": []
    },
    {
      "cell_type": "markdown",
      "source": [
        "# 6 Loading transformed Data"
      ],
      "metadata": {
        "id": "pz8PHJaZ1n5M"
      }
    },
    {
      "cell_type": "code",
      "source": [
        "train_dataset = ImageFolderWithPaths(root = train_path, transform = data_transform)\n",
        "test_dataset = ImageFolderWithPaths(root = test_path, transform = data_transform)"
      ],
      "metadata": {
        "id": "nB-cuiPItVkY"
      },
      "execution_count": 15,
      "outputs": []
    },
    {
      "cell_type": "code",
      "source": [
        "class_names = train_dataset.classes\n",
        "class_names"
      ],
      "metadata": {
        "colab": {
          "base_uri": "https://localhost:8080/"
        },
        "id": "aZpk5-9dx4dJ",
        "outputId": "2eeea06b-b2ad-4409-a3f4-fe82fa6dd210"
      },
      "execution_count": 16,
      "outputs": [
        {
          "output_type": "execute_result",
          "data": {
            "text/plain": [
              "['AguafinaScript',\n",
              " 'AlexBrush',\n",
              " 'Allura',\n",
              " 'Canterbury',\n",
              " 'GreatVibes',\n",
              " 'Holligate Signature',\n",
              " 'I Love Glitter',\n",
              " 'James Fajardo',\n",
              " 'OpenSans',\n",
              " 'alsscrp']"
            ]
          },
          "metadata": {},
          "execution_count": 16
        }
      ]
    },
    {
      "cell_type": "markdown",
      "source": [
        "## 6.1 Turn image into Dataloader"
      ],
      "metadata": {
        "id": "kCb23PwFldj-"
      }
    },
    {
      "cell_type": "code",
      "source": [
        "BATCH_SIZE = 64\n",
        "train_dataloader = DataLoader(dataset = train_dataset,\n",
        "                              batch_size = BATCH_SIZE,\n",
        "                              num_workers = os.cpu_count(),\n",
        "                              shuffle = True)\n",
        "test_dataloader = DataLoader(dataset = test_dataset,\n",
        "                             batch_size = BATCH_SIZE,\n",
        "                             num_workers = os.cpu_count(),\n",
        "                             shuffle = False)\n",
        "\n",
        "train_dataloader, test_dataloader"
      ],
      "metadata": {
        "colab": {
          "base_uri": "https://localhost:8080/"
        },
        "id": "q9Hi9c9U9BTL",
        "outputId": "2c4515f1-8b61-467a-efed-30e04929c2e8"
      },
      "execution_count": 17,
      "outputs": [
        {
          "output_type": "execute_result",
          "data": {
            "text/plain": [
              "(<torch.utils.data.dataloader.DataLoader at 0x7eb2b78d58a0>,\n",
              " <torch.utils.data.dataloader.DataLoader at 0x7eb2b47aeb30>)"
            ]
          },
          "metadata": {},
          "execution_count": 17
        }
      ]
    },
    {
      "cell_type": "code",
      "source": [
        "len(train_dataloader), len(test_dataloader)"
      ],
      "metadata": {
        "colab": {
          "base_uri": "https://localhost:8080/"
        },
        "id": "2ke94cb79FXo",
        "outputId": "3097315c-49a7-4116-b678-d8f463dfcdb5"
      },
      "execution_count": 18,
      "outputs": [
        {
          "output_type": "execute_result",
          "data": {
            "text/plain": [
              "(68, 31)"
            ]
          },
          "metadata": {},
          "execution_count": 18
        }
      ]
    },
    {
      "cell_type": "code",
      "source": [
        "img, label, path = next(iter(train_dataloader))\n",
        "\n",
        "# Batch size will now be 64\n",
        "print(f\"Image shape: {img.shape} -> [batch_size, color_channels, height, width]\")\n",
        "print(f\"Label shape: {label.shape}\")"
      ],
      "metadata": {
        "colab": {
          "base_uri": "https://localhost:8080/"
        },
        "id": "jToDBCwb9Hko",
        "outputId": "72d75412-417d-4d96-e3ca-994e817c48ec"
      },
      "execution_count": 19,
      "outputs": [
        {
          "output_type": "stream",
          "name": "stderr",
          "text": [
            "/usr/lib/python3.10/multiprocessing/popen_fork.py:66: RuntimeWarning: os.fork() was called. os.fork() is incompatible with multithreaded code, and JAX is multithreaded, so this will likely lead to a deadlock.\n",
            "  self.pid = os.fork()\n"
          ]
        },
        {
          "output_type": "stream",
          "name": "stdout",
          "text": [
            "Image shape: torch.Size([64, 3, 64, 64]) -> [batch_size, color_channels, height, width]\n",
            "Label shape: torch.Size([64])\n"
          ]
        }
      ]
    },
    {
      "cell_type": "markdown",
      "source": [
        "# 7 Creating Model"
      ],
      "metadata": {
        "id": "7bLOEI9Ol6QM"
      }
    },
    {
      "cell_type": "code",
      "source": [
        "torch.manual_seed(42)\n",
        "model_0 = CNN (input_shape = 3,         # Number of color channels in our data\n",
        "               hidden_units = 10,\n",
        "               output_shape = len(class_names)).to(device)\n",
        "model_0"
      ],
      "metadata": {
        "colab": {
          "base_uri": "https://localhost:8080/"
        },
        "id": "eNv4x8Oq9R3k",
        "outputId": "a3256b83-0de8-47e8-f96d-9b468238cb60"
      },
      "execution_count": 20,
      "outputs": [
        {
          "output_type": "execute_result",
          "data": {
            "text/plain": [
              "CNN(\n",
              "  (conv_block_1): Sequential(\n",
              "    (0): Conv2d(3, 10, kernel_size=(3, 3), stride=(1, 1))\n",
              "    (1): ReLU()\n",
              "    (2): Conv2d(10, 10, kernel_size=(3, 3), stride=(1, 1))\n",
              "    (3): ReLU()\n",
              "    (4): MaxPool2d(kernel_size=2, stride=2, padding=0, dilation=1, ceil_mode=False)\n",
              "  )\n",
              "  (conv_block_2): Sequential(\n",
              "    (0): Conv2d(10, 10, kernel_size=(3, 3), stride=(1, 1))\n",
              "    (1): ReLU()\n",
              "    (2): Conv2d(10, 10, kernel_size=(3, 3), stride=(1, 1))\n",
              "    (3): ReLU()\n",
              "    (4): MaxPool2d(kernel_size=2, stride=2, padding=0, dilation=1, ceil_mode=False)\n",
              "  )\n",
              "  (classifier): Sequential(\n",
              "    (0): Flatten(start_dim=1, end_dim=-1)\n",
              "    (1): Linear(in_features=1690, out_features=10, bias=True)\n",
              "  )\n",
              ")"
            ]
          },
          "metadata": {},
          "execution_count": 20
        }
      ]
    },
    {
      "cell_type": "code",
      "source": [
        "image_batch, label_batch, path_batch = next(iter(train_dataloader))\n",
        "image_batch.shape, label_batch.shape"
      ],
      "metadata": {
        "colab": {
          "base_uri": "https://localhost:8080/"
        },
        "id": "yKvqBVBS9TvO",
        "outputId": "a28ee859-8172-4e14-c8b7-72ef00da43e6"
      },
      "execution_count": 21,
      "outputs": [
        {
          "output_type": "execute_result",
          "data": {
            "text/plain": [
              "(torch.Size([64, 3, 64, 64]), torch.Size([64]))"
            ]
          },
          "metadata": {},
          "execution_count": 21
        }
      ]
    },
    {
      "cell_type": "markdown",
      "source": [
        "## 7.1 Using torchinfo to get an idea of the shapes"
      ],
      "metadata": {
        "id": "gb5CjFOAmP3Y"
      }
    },
    {
      "cell_type": "code",
      "source": [
        "# Install torchinfo, import if its available\n",
        "try:\n",
        "  import torchinfo\n",
        "except:\n",
        "  !pip install torchinfo\n",
        "  import torchinfo\n",
        "\n",
        "from torchinfo import summary\n",
        "summary(model_0, input_size = [1, 3, 64, 64])"
      ],
      "metadata": {
        "colab": {
          "base_uri": "https://localhost:8080/"
        },
        "id": "u_fGMqPY9Ymk",
        "outputId": "b43becc1-4585-4d4e-828c-86f88ba05966"
      },
      "execution_count": 22,
      "outputs": [
        {
          "output_type": "stream",
          "name": "stdout",
          "text": [
            "Collecting torchinfo\n",
            "  Downloading torchinfo-1.8.0-py3-none-any.whl (23 kB)\n",
            "Installing collected packages: torchinfo\n",
            "Successfully installed torchinfo-1.8.0\n"
          ]
        },
        {
          "output_type": "execute_result",
          "data": {
            "text/plain": [
              "==========================================================================================\n",
              "Layer (type:depth-idx)                   Output Shape              Param #\n",
              "==========================================================================================\n",
              "CNN                                      [1, 10]                   --\n",
              "├─Sequential: 1-1                        [1, 10, 30, 30]           --\n",
              "│    └─Conv2d: 2-1                       [1, 10, 62, 62]           280\n",
              "│    └─ReLU: 2-2                         [1, 10, 62, 62]           --\n",
              "│    └─Conv2d: 2-3                       [1, 10, 60, 60]           910\n",
              "│    └─ReLU: 2-4                         [1, 10, 60, 60]           --\n",
              "│    └─MaxPool2d: 2-5                    [1, 10, 30, 30]           --\n",
              "├─Sequential: 1-2                        [1, 10, 13, 13]           --\n",
              "│    └─Conv2d: 2-6                       [1, 10, 28, 28]           910\n",
              "│    └─ReLU: 2-7                         [1, 10, 28, 28]           --\n",
              "│    └─Conv2d: 2-8                       [1, 10, 26, 26]           910\n",
              "│    └─ReLU: 2-9                         [1, 10, 26, 26]           --\n",
              "│    └─MaxPool2d: 2-10                   [1, 10, 13, 13]           --\n",
              "├─Sequential: 1-3                        [1, 10]                   --\n",
              "│    └─Flatten: 2-11                     [1, 1690]                 --\n",
              "│    └─Linear: 2-12                      [1, 10]                   16,910\n",
              "==========================================================================================\n",
              "Total params: 19,920\n",
              "Trainable params: 19,920\n",
              "Non-trainable params: 0\n",
              "Total mult-adds (M): 5.70\n",
              "==========================================================================================\n",
              "Input size (MB): 0.05\n",
              "Forward/backward pass size (MB): 0.71\n",
              "Params size (MB): 0.08\n",
              "Estimated Total Size (MB): 0.84\n",
              "=========================================================================================="
            ]
          },
          "metadata": {},
          "execution_count": 22
        }
      ]
    },
    {
      "cell_type": "markdown",
      "source": [
        "## 7.2 Creating train and test loop functions"
      ],
      "metadata": {
        "id": "QQYRQb8_mX-u"
      }
    },
    {
      "cell_type": "markdown",
      "source": [
        "### 7.2.1 Create train step"
      ],
      "metadata": {
        "id": "r49vJb7VsyOO"
      }
    },
    {
      "cell_type": "code",
      "source": [
        "def train_step(model: torch.nn.Module,\n",
        "               dataloader: torch.utils.data.DataLoader,\n",
        "               loss_fn: torch.nn.Module,\n",
        "               optimizer: torch.optim.Optimizer,\n",
        "               device = device):\n",
        "    \"\"\"\n",
        "    Performs a single training step for the model.\n",
        "\n",
        "    Args:\n",
        "        model (torch.nn.Module): The neural network model to be trained.\n",
        "        dataloader (torch.utils.data.DataLoader): DataLoader for the training data.\n",
        "        loss_fn (torch.nn.Module): Loss function to calculate the loss.\n",
        "        optimizer (torch.optim.Optimizer): Optimizer for updating the model parameters.\n",
        "        device (torch.device, optional): Device to perform the training on (default is CPU).\n",
        "\n",
        "    Returns:\n",
        "        tuple: Average training loss and accuracy over the dataloader.\n",
        "    \"\"\"\n",
        "\n",
        "    # Put the model in train mode\n",
        "    model.train()\n",
        "\n",
        "    # Setup train loss and train accuracy\n",
        "    train_loss, train_acc = 0, 0\n",
        "\n",
        "    # Loop through data loader data batches\n",
        "    for batch, (X, y, _) in enumerate(dataloader):\n",
        "\n",
        "        # Send data to the target device\n",
        "        X, y = X.to(device), y.to(device)\n",
        "\n",
        "        # Forward Pass\n",
        "        y_pred = model(X)\n",
        "\n",
        "        # Calculate the loss\n",
        "        loss = loss_fn (y_pred, y)\n",
        "        train_loss += loss.item()\n",
        "\n",
        "        optimizer.zero_grad()\n",
        "        loss.backward()\n",
        "        optimizer.step()\n",
        "\n",
        "        # Calculate the accuracy metric\n",
        "        y_pred_class = torch.argmax(torch.softmax(y_pred, dim = 1), dim = 1)\n",
        "        train_acc += (y_pred_class == y).sum().item() / len(y_pred)\n",
        "\n",
        "    # Adjust metrics to get average loss and accuracy per batch\n",
        "    train_loss = train_loss / len(dataloader)\n",
        "    train_acc = train_acc / len(dataloader)\n",
        "    return train_loss, train_acc"
      ],
      "metadata": {
        "id": "XXMoDr1M9azk"
      },
      "execution_count": 23,
      "outputs": []
    },
    {
      "cell_type": "markdown",
      "source": [
        "### 7.2.2 Create test step"
      ],
      "metadata": {
        "id": "ldRiQy8hs3Qe"
      }
    },
    {
      "cell_type": "code",
      "source": [
        "def test_step(model: torch.nn.Module,\n",
        "              dataloader: torch.utils.data.DataLoader,\n",
        "              loss_fn: torch.nn.Module,\n",
        "              device: device):\n",
        "    \"\"\"\n",
        "    Performs a single testing step for the model.\n",
        "\n",
        "    Args:\n",
        "        model (torch.nn.Module): The neural network model to be tested.\n",
        "        dataloader (torch.utils.data.DataLoader): DataLoader for the test data.\n",
        "        loss_fn (torch.nn.Module): Loss function to calculate the loss.\n",
        "        device (torch.device): Device to perform the testing on (CPU or GPU).\n",
        "\n",
        "    Returns:\n",
        "        tuple: Average test loss, test accuracy, and full image accuracy over the dataloader.\n",
        "    \"\"\"\n",
        "\n",
        "    # Put model in Eval mode\n",
        "    model.eval()\n",
        "\n",
        "    # Setup test loss and test accuracy values\n",
        "    test_loss, test_acc = 0, 0\n",
        "\n",
        "    ctr = 0\n",
        "    prev_image = 0\n",
        "    acc = []\n",
        "\n",
        "    # Turn on inference mode\n",
        "    with torch.inference_mode():\n",
        "\n",
        "        # Loop through data loader data batches\n",
        "        for batch, (X, y, paths) in enumerate(dataloader):\n",
        "\n",
        "            # Send data to the target device\n",
        "            X, y = X.to(device), y.to(device)\n",
        "\n",
        "            # List of images in this batch\n",
        "            new_images = [os.path.basename(path) for path in paths]\n",
        "\n",
        "            # Predicted logits\n",
        "            test_pred_logits = model(X)\n",
        "\n",
        "            # Loss values\n",
        "            loss = loss_fn (test_pred_logits, y)\n",
        "            test_loss += loss.item()\n",
        "\n",
        "            # Predicted probabilities, labels and accuracy of each subimage\n",
        "            test_pred_probs = torch.softmax(test_pred_logits, dim = 1)\n",
        "            test_pred_labels = torch.argmax(torch.softmax(test_pred_logits, dim = 1), dim = 1)\n",
        "            test_acc += (test_pred_labels == y).sum().item() / len(test_pred_logits)\n",
        "\n",
        "            # Looping through all subimages in the batch to find accuracy over images\n",
        "            for i, image in enumerate(new_images):\n",
        "\n",
        "                # Running the loop for the first time\n",
        "                if ctr == 0:\n",
        "                    ctr += 1\n",
        "                    prev_image = image[:-6]\n",
        "                    this_test_pred_probs = test_pred_probs[i]\n",
        "                    prev_class = y[i]\n",
        "                    continue\n",
        "\n",
        "                this_image = image[:-6]\n",
        "\n",
        "                # This and previous image belong to the same bigger image\n",
        "                if this_image == prev_image:\n",
        "\n",
        "                    # Adding predicted probabilities\n",
        "                    this_test_pred_probs += test_pred_probs[i]\n",
        "                    continue\n",
        "\n",
        "                # This and previous image belong to different bigger subimage\n",
        "                # Checking if the label for the previous image matches the class of the previous image\n",
        "                # If yes, appending 1 to accuracy. Appending 0 otherwise\n",
        "                prev_test_pred_label = torch.argmax(this_test_pred_probs, dim = 0)\n",
        "                if prev_test_pred_label == prev_class:\n",
        "                    acc.append(1)\n",
        "                else:\n",
        "                    acc.append(0)\n",
        "\n",
        "                # Making preparations for the next loop\n",
        "                prev_image = this_image\n",
        "                this_test_pred_probs = test_pred_probs[i]\n",
        "                prev_class = y[i]\n",
        "\n",
        "        # Finding final values of loss and accuracy\n",
        "        test_loss /= len(dataloader)\n",
        "        test_acc /= len(dataloader)\n",
        "        full_image_acc = sum(acc) / len(acc)\n",
        "\n",
        "    return test_loss, test_acc, full_image_acc"
      ],
      "metadata": {
        "id": "MEWxatYv9j6S"
      },
      "execution_count": 24,
      "outputs": []
    },
    {
      "cell_type": "markdown",
      "source": [
        "## 7.3 Creating a `train()` function to combine `train_step()` and `test_step()`"
      ],
      "metadata": {
        "id": "Vp1MsJRDmpG-"
      }
    },
    {
      "cell_type": "code",
      "source": [
        "def train(model: torch.nn.Module,\n",
        "          train_dataloader: torch.utils.data.DataLoader,\n",
        "          test_dataloader: torch.utils.data.DataLoader,\n",
        "          optimizer: torch.optim.Optimizer,\n",
        "          loss_fn: torch.nn.Module = nn.CrossEntropyLoss(),\n",
        "          epochs: int = 5,\n",
        "          device = device):\n",
        "    \"\"\"\n",
        "    Trains and evaluates a PyTorch model.\n",
        "\n",
        "    Args:\n",
        "        model (torch.nn.Module): The neural network model to be trained.\n",
        "        train_dataloader (torch.utils.data.DataLoader): DataLoader for the training data.\n",
        "        test_dataloader (torch.utils.data.DataLoader): DataLoader for the test data.\n",
        "        optimizer (torch.optim.Optimizer): Optimizer for updating the model parameters.\n",
        "        loss_fn (torch.nn.Module): Loss function to calculate the loss (default: CrossEntropyLoss).\n",
        "        epochs (int): Number of epochs to train the model (default: 5).\n",
        "        device (torch.device): Device to perform the training and testing on (default: CPU).\n",
        "\n",
        "    Returns:\n",
        "        dict: A dictionary containing the training and testing loss and accuracy for each epoch.\n",
        "    \"\"\"\n",
        "\n",
        "    # Create empty results dictionary\n",
        "    results = {\"train_loss\": [],\n",
        "              \"train_acc\": [],\n",
        "              \"test_loss\": [],\n",
        "              \"test_acc\": [],\n",
        "               \"full_image_test_acc\": []}\n",
        "\n",
        "    # Loop through training and testing steps for a number of epochs\n",
        "    for epoch in tqdm(range(epochs)):\n",
        "        train_loss, train_acc = train_step(model = model,\n",
        "                                          dataloader = train_dataloader,\n",
        "                                          loss_fn = loss_fn,\n",
        "                                          optimizer = optimizer,\n",
        "                                          device = device)\n",
        "\n",
        "        test_loss, test_acc, full_image_test_acc = test_step(model = model,\n",
        "                                          dataloader = test_dataloader,\n",
        "                                          loss_fn = loss_fn,\n",
        "                                          device = device)\n",
        "\n",
        "        print(f\"Epoch: {epoch} | Train loss: {train_loss:.4f} | Train acc: {train_acc:.4f} | test loss: {test_loss:.4f} | Test acc: {test_acc:.4f} | Full Image Test acc: {full_image_test_acc:.4f}\")\n",
        "\n",
        "        results[\"train_loss\"].append(train_loss)\n",
        "        results[\"train_acc\"].append(train_acc)\n",
        "        results[\"test_loss\"].append(test_loss)\n",
        "        results[\"test_acc\"].append(test_acc)\n",
        "        results[\"full_image_test_acc\"].append(full_image_test_acc)\n",
        "\n",
        "    return results"
      ],
      "metadata": {
        "id": "91dQcX9uNfNS"
      },
      "execution_count": 25,
      "outputs": []
    },
    {
      "cell_type": "markdown",
      "source": [
        "## 7.4 Train and evaluate model_0"
      ],
      "metadata": {
        "id": "kkpbG_nBmvix"
      }
    },
    {
      "cell_type": "code",
      "source": [
        "# Set the random seeds\n",
        "torch.manual_seed(42)\n",
        "torch.cuda.manual_seed(42)\n",
        "\n",
        "# Set number of epochs\n",
        "NUM_EPOCHS = 8\n",
        "\n",
        "# Recreate an instance of CNN\n",
        "model_0 = CNN(input_shape = 3,\n",
        "              hidden_units = 10,\n",
        "              output_shape = len(class_names)).to(device)\n",
        "\n",
        "\n",
        "# Setup loss function and optimizer\n",
        "loss_fn = nn.CrossEntropyLoss()\n",
        "\n",
        "optimizer = torch.optim.Adam(params = model_0.parameters(),\n",
        "                             lr = 0.001)\n",
        "\n",
        "# Start the timer\n",
        "from timeit import default_timer as timer\n",
        "start_time = timer()\n",
        "\n",
        "# Train model_0\n",
        "model_0_results = train(model = model_0,\n",
        "                        train_dataloader = train_dataloader,\n",
        "                        test_dataloader = test_dataloader,\n",
        "                        optimizer = optimizer,\n",
        "                        loss_fn = loss_fn,\n",
        "                        epochs = NUM_EPOCHS)\n",
        "\n",
        "# End the timer and print out how long it took\n",
        "end_time = timer()\n",
        "\n",
        "print(f\"Total training time: {end_time - start_time:.3f} seconds\")"
      ],
      "metadata": {
        "colab": {
          "base_uri": "https://localhost:8080/",
          "height": 210,
          "referenced_widgets": [
            "2ee667f860f34fc4a5dd2ca75336bc2c",
            "34ef014997a54983a2f5beedc0e61ffc",
            "e91c32a31014493caf1a912584535eb7",
            "0ec285d1b537412a9319d0ebe0d7e56e",
            "057120885f8f41809cf12f8c1df87f11",
            "6e32ceb772af4096b10416d14c8cd48d",
            "057d25f264624b62aaa96199593a98f1",
            "10b3e00aa3dd417f95d4e67a0246d879",
            "83e4b9086bd84acbbe6f0efaf3141d7f",
            "9ab00b6e5ce142e7aa3d3d5991e3f806",
            "a08a0a36c1d149de8a65008590c3586d"
          ]
        },
        "id": "BFynqVPtaS5O",
        "outputId": "01e887ac-d983-4c67-9951-f2d7d208185c"
      },
      "execution_count": null,
      "outputs": [
        {
          "output_type": "display_data",
          "data": {
            "text/plain": [
              "  0%|          | 0/8 [00:00<?, ?it/s]"
            ],
            "application/vnd.jupyter.widget-view+json": {
              "version_major": 2,
              "version_minor": 0,
              "model_id": "2ee667f860f34fc4a5dd2ca75336bc2c"
            }
          },
          "metadata": {}
        },
        {
          "output_type": "stream",
          "name": "stdout",
          "text": [
            "Epoch: 0 | Train loss: 2.0893 | Train acc: 0.2251 | test loss: 1.4131 | Test acc: 0.4750 | Full Image Test acc: 0.4453\n",
            "Epoch: 1 | Train loss: 0.7873 | Train acc: 0.7422 | test loss: 0.5970 | Test acc: 0.8080 | Full Image Test acc: 0.8240\n",
            "Epoch: 2 | Train loss: 0.4654 | Train acc: 0.8547 | test loss: 0.6133 | Test acc: 0.8117 | Full Image Test acc: 0.8453\n",
            "Epoch: 3 | Train loss: 0.3622 | Train acc: 0.8969 | test loss: 0.4788 | Test acc: 0.8684 | Full Image Test acc: 0.9093\n",
            "Epoch: 4 | Train loss: 0.3044 | Train acc: 0.9104 | test loss: 0.4877 | Test acc: 0.8753 | Full Image Test acc: 0.9093\n",
            "Epoch: 5 | Train loss: 0.2599 | Train acc: 0.9279 | test loss: 0.4723 | Test acc: 0.8639 | Full Image Test acc: 0.8987\n",
            "Epoch: 6 | Train loss: 0.2223 | Train acc: 0.9387 | test loss: 0.3952 | Test acc: 0.8916 | Full Image Test acc: 0.9280\n",
            "Epoch: 7 | Train loss: 0.2028 | Train acc: 0.9427 | test loss: 0.4833 | Test acc: 0.8686 | Full Image Test acc: 0.9173\n",
            "Total training time: 147.126 seconds\n"
          ]
        }
      ]
    },
    {
      "cell_type": "markdown",
      "source": [
        "## 7.8 Plot the loss curves of Model 0"
      ],
      "metadata": {
        "id": "l8xZDuzWaqr3"
      }
    },
    {
      "cell_type": "code",
      "source": [
        "model_0_results.keys()"
      ],
      "metadata": {
        "colab": {
          "base_uri": "https://localhost:8080/"
        },
        "id": "wuxATVjwpicT",
        "outputId": "8d89c58d-65a8-4ad2-83f5-a0a0f60864b1"
      },
      "execution_count": null,
      "outputs": [
        {
          "output_type": "execute_result",
          "data": {
            "text/plain": [
              "dict_keys(['train_loss', 'train_acc', 'test_loss', 'test_acc', 'full_image_test_acc'])"
            ]
          },
          "metadata": {},
          "execution_count": 36
        }
      ]
    },
    {
      "cell_type": "code",
      "source": [
        "def plot_loss_curves(results: Dict[str, List[float]]):\n",
        "    \"\"\"\n",
        "    Plots training curves of a results dictionary.\n",
        "\n",
        "    Args:\n",
        "        results (Dict[str, List[float]]): A dictionary containing the training and testing metrics.\n",
        "            It should have keys: 'train_loss', 'test_loss', 'train_acc', 'test_acc', and 'full_image_test_acc'.\n",
        "            Each key corresponds to a list of float values representing the metric values for each epoch.\n",
        "    \"\"\"\n",
        "\n",
        "    # Get the loss values of the results dictionary (training and test)\n",
        "    loss = results[\"train_loss\"]\n",
        "    test_loss = results[\"test_loss\"]\n",
        "\n",
        "    # Get the accuracy values of the results dictionary\n",
        "    accuracy = results[\"train_acc\"]\n",
        "    test_accuracy = results[\"test_acc\"]\n",
        "    full_image_test_acc = results[\"full_image_test_acc\"]\n",
        "\n",
        "    # Figure out how many epochs there were\n",
        "    epochs = range(len(results[\"train_loss\"]))\n",
        "\n",
        "    # Setup a plot\n",
        "    plt.figure(figsize = (15, 5))\n",
        "\n",
        "    # Plot the loss\n",
        "    plt.subplot(1, 3, 1)\n",
        "    plt.plot(epochs, loss, label = \"train_loss\")\n",
        "    plt.plot(epochs, test_loss, label = \"test_loss\")\n",
        "    plt.title(\"Loss\")\n",
        "    plt.xlabel(\"Epochs\")\n",
        "    plt.legend()\n",
        "\n",
        "    # Plot the accuracy\n",
        "    plt.subplot(1, 3, 2)\n",
        "    plt.plot(epochs, accuracy, label = \"train_accuracy\")\n",
        "    plt.plot(epochs, test_accuracy, label = \"test_accuracy\")\n",
        "    plt.title(\"Accuracy\")\n",
        "    plt.xlabel(\"Epochs\")\n",
        "    plt.legend()\n",
        "\n",
        "    # Plot the full image test accuracy\n",
        "    plt.subplot(1, 3, 3)\n",
        "    plt.plot(epochs, full_image_test_acc, label = \"full image test acc\")\n",
        "    plt.title(\"Full Image Test Accuracy\")\n",
        "    plt.xlabel(\"Epochs\")\n",
        "    plt.legend()"
      ],
      "metadata": {
        "id": "QJIeiN2ZqEr6"
      },
      "execution_count": null,
      "outputs": []
    },
    {
      "cell_type": "code",
      "source": [
        "plot_loss_curves(model_0_results)"
      ],
      "metadata": {
        "colab": {
          "base_uri": "https://localhost:8080/",
          "height": 435
        },
        "id": "KEE075Z-qv09",
        "outputId": "3edf7545-d75b-499c-c273-0a04b502cd14"
      },
      "execution_count": null,
      "outputs": [
        {
          "output_type": "display_data",
          "data": {
            "text/plain": [
              "<Figure size 1500x500 with 3 Axes>"
            ],
            "image/png": "[encoded data removed]"
          },
          "metadata": {}
        }
      ]
    },
    {
      "cell_type": "markdown",
      "source": [
        "# 8 Storing/Loading model weights"
      ],
      "metadata": {
        "id": "9QwCgra7FXYx"
      }
    },
    {
      "cell_type": "markdown",
      "source": [
        "## 8.1 Storing the model"
      ],
      "metadata": {
        "id": "2fdpMDvg0QWW"
      }
    },
    {
      "cell_type": "code",
      "source": [
        "from pathlib import Path\n",
        "MODEL_PATH = Path(\"/content/drive/MyDrive/Saved_Models/Font_Classifier\")\n",
        "MODEL_PATH.mkdir(parents=True,\n",
        "                 exist_ok=True)\n",
        "MODEL_NAME = \"model_0.pth\"\n",
        "MODEL_SAVE_PATH = MODEL_PATH / MODEL_NAME\n",
        "torch.save(model_0, MODEL_SAVE_PATH)"
      ],
      "metadata": {
        "id": "mImPFB53zkAK"
      },
      "execution_count": null,
      "outputs": []
    },
    {
      "cell_type": "markdown",
      "source": [
        "## 8.2 Loading the model"
      ],
      "metadata": {
        "id": "CG7pbZyR0UhW"
      }
    },
    {
      "cell_type": "code",
      "source": [
        "# Importing libraries again and redefining some variables, so that the code can be run from this point for evaluation\n",
        "\n",
        "import torch\n",
        "from pathlib import Path\n",
        "from torch import nn\n",
        "\n",
        "from PIL import Image\n",
        "\n",
        "import os\n",
        "import random\n",
        "\n",
        "from torchvision import transforms\n",
        "\n",
        "import pandas as pd\n",
        "\n",
        "from google.colab import drive\n",
        "drive.mount('/content/drive')\n",
        "\n",
        "random.seed(42)\n",
        "\n",
        "device = \"cuda\" if torch.cuda.is_available() else \"cpu\"\n",
        "device\n",
        "\n",
        "MODEL_PATH = Path(\"/content/drive/MyDrive/Saved_Models/Font_Classifier\")\n",
        "MODEL_NAME = \"model_0.pth\"\n",
        "MODEL_SAVE_PATH = MODEL_PATH / MODEL_NAME\n",
        "\n",
        "from classes import CNN, CustomResizeAndSplit, ImageFolderWithPaths"
      ],
      "metadata": {
        "colab": {
          "base_uri": "https://localhost:8080/"
        },
        "id": "WyyI9RoAXbjB",
        "outputId": "dc3b7cf5-423b-4d99-faae-86e0baa7323a"
      },
      "execution_count": 1,
      "outputs": [
        {
          "output_type": "stream",
          "name": "stdout",
          "text": [
            "Mounted at /content/drive\n"
          ]
        }
      ]
    },
    {
      "cell_type": "code",
      "source": [
        "model_0 = torch.load(MODEL_SAVE_PATH, map_location=torch.device(device))"
      ],
      "metadata": {
        "id": "wcG8mW0W0ePn"
      },
      "execution_count": 2,
      "outputs": []
    },
    {
      "cell_type": "markdown",
      "source": [
        "# 9 Making predictions on unseen data"
      ],
      "metadata": {
        "id": "e6mLF9gwrIsP"
      }
    },
    {
      "cell_type": "markdown",
      "source": [
        "## 9.1 Redefining variables to run the model directly post loading"
      ],
      "metadata": {
        "id": "CqZaCksQWw6V"
      }
    },
    {
      "cell_type": "code",
      "source": [
        "class_names = ['AguafinaScript',\n",
        " 'AlexBrush',\n",
        " 'Allura',\n",
        " 'Canterbury',\n",
        " 'GreatVibes',\n",
        " 'Holligate Signature',\n",
        " 'I Love Glitter',\n",
        " 'James Fajardo',\n",
        " 'OpenSans',\n",
        " 'alsscrp']\n",
        "\n",
        "HEIGHT = 64\n",
        "WIDTH = 64\n",
        "\n",
        "resize_and_split = CustomResizeAndSplit(size = (HEIGHT, WIDTH))\n",
        "\n",
        "# Transform for image\n",
        "data_transform = transforms.Compose([\n",
        "\n",
        "    # Turn the image to a tensor\n",
        "    transforms.ToTensor()\n",
        "])"
      ],
      "metadata": {
        "id": "SG6YbjTbWujt"
      },
      "execution_count": 3,
      "outputs": []
    },
    {
      "cell_type": "code",
      "source": [
        "def predict(path: str,\n",
        "            model: torch.nn.Module,\n",
        "            class_names: list):\n",
        "    \"\"\"\n",
        "    Generates predictions for images in the given directory using the provided model.\n",
        "\n",
        "    Args:\n",
        "        path (str): Path to the directory containing images.\n",
        "        model (torch.nn.Module): The trained neural network model.\n",
        "        class_names (list): List of class names for prediction labels.\n",
        "    \"\"\"\n",
        "\n",
        "    # Set the model to eval mode\n",
        "    model.eval()\n",
        "    with torch.inference_mode():\n",
        "\n",
        "        # Store predictions and file names in lists\n",
        "        predictions = []\n",
        "        file_names = []\n",
        "\n",
        "        # Iterate through each file in the folder\n",
        "        for file_name in os.listdir(path):\n",
        "            file_path = os.path.join(path, file_name)\n",
        "            img = Image.open(file_path)\n",
        "            num_files =  int(HEIGHT / WIDTH *  img.size[0] / img.size[1])\n",
        "\n",
        "            # Create an empty tensor for predictions\n",
        "            preds = torch.zeros([1, 10]).to(device)\n",
        "            for i in range(num_files):\n",
        "\n",
        "                # Make transformations\n",
        "                transformed_img = resize_and_split(img, i)\n",
        "                transformed_img = data_transform(transformed_img)\n",
        "\n",
        "                # Make predictions\n",
        "                model = model.to(device)\n",
        "                transformed_img = transformed_img.to(device)\n",
        "                transformed_img_pred = model(transformed_img.unsqueeze(0)).to(device)\n",
        "                preds += torch.softmax(transformed_img_pred, dim = 1)\n",
        "\n",
        "            predictions.append(class_names[torch.argmax(preds, dim = 1).cpu()])\n",
        "            file_names.append(file_name)\n",
        "\n",
        "    df = pd.DataFrame({\n",
        "        \"Image\": file_names,\n",
        "        \"Font\": predictions\n",
        "    })\n",
        "\n",
        "    df.to_csv(\"Predictions.csv\", index=True)\n",
        "    print(\"All predictions written to csv\")\n"
      ],
      "metadata": {
        "id": "UhuHn4KG3kYl"
      },
      "execution_count": 4,
      "outputs": []
    },
    {
      "cell_type": "code",
      "source": [
        "predict_path = \"/content/drive/MyDrive/datasets/Font_Classifier/Misc_Data\"\n",
        "predict(predict_path, model_0, class_names)"
      ],
      "metadata": {
        "colab": {
          "base_uri": "https://localhost:8080/"
        },
        "id": "qNu1phIj87IR",
        "outputId": "df82b1e4-9c7a-449b-f3af-a594095c2603"
      },
      "execution_count": 5,
      "outputs": [
        {
          "output_type": "stream",
          "name": "stdout",
          "text": [
            "All predictions written to csv\n"
          ]
        }
      ]
    },
    {
      "cell_type": "code",
      "source": [],
      "metadata": {
        "id": "VoK7OCL4KuvT"
      },
      "execution_count": null,
      "outputs": []
    }
  ]
}